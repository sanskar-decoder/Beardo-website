{
  "nbformat": 4,
  "nbformat_minor": 0,
  "metadata": {
    "colab": {
      "provenance": [],
      "gpuType": "T4",
      "authorship_tag": "ABX9TyNZkW/ZtyehKtWoBbyo/zbR",
      "include_colab_link": true
    },
    "kernelspec": {
      "name": "python3",
      "display_name": "Python 3"
    },
    "language_info": {
      "name": "python"
    },
    "accelerator": "GPU"
  },
  "cells": [
    {
      "cell_type": "markdown",
      "metadata": {
        "id": "view-in-github",
        "colab_type": "text"
      },
      "source": [
        "<a href=\"https://colab.research.google.com/github/sanskar-decoder/Beardo-website/blob/main/sanskar_web_scraping.ipynb\" target=\"_parent\"><img src=\"https://colab.research.google.com/assets/colab-badge.svg\" alt=\"Open In Colab\"/></a>"
      ]
    },
    {
      "cell_type": "code",
      "execution_count": 4,
      "metadata": {
        "id": "GflPW_0svcCE"
      },
      "outputs": [],
      "source": [
        "import pandas as pd\n",
        "import numpy as np\n",
        "import requests as rs\n",
        "from bs4 import BeautifulSoup\n",
        "\n"
      ]
    },
    {
      "cell_type": "markdown",
      "source": [],
      "metadata": {
        "id": "uxxcrSdE19Mn"
      }
    },
    {
      "cell_type": "markdown",
      "source": [
        "## **Rnd** and scrap a specific movie to understand structure"
      ],
      "metadata": {
        "id": "cMeG0hqJnWFa"
      }
    },
    {
      "cell_type": "code",
      "source": [
        "rl=\"https://www.justwatch.com/in/movie/the-fall-guy\"\n",
        "resp=rs.get(rl)\n",
        "soup=BeautifulSoup(resp.text,'html.parser')\n"
      ],
      "metadata": {
        "id": "zc0zfnE5B8JH"
      },
      "execution_count": 5,
      "outputs": []
    },
    {
      "cell_type": "markdown",
      "source": [],
      "metadata": {
        "id": "2lGNiXOqiK59"
      }
    },
    {
      "cell_type": "markdown",
      "source": [],
      "metadata": {
        "id": "7Wkle3B7iL1A"
      }
    },
    {
      "cell_type": "markdown",
      "source": [
        "# Function to get title\n",
        "# **Title**"
      ],
      "metadata": {
        "id": "t9199UhBCjhY"
      }
    },
    {
      "cell_type": "code",
      "source": [
        "def get_title(soup):\n",
        " a=soup.find_all('div',attrs={\"data-testid\": \"titleBlock\"})[0].find('h1').text\n",
        " return a\n",
        "\n",
        "get_title(soup)"
      ],
      "metadata": {
        "colab": {
          "base_uri": "https://localhost:8080/",
          "height": 36
        },
        "id": "ClXWuSaJCgAe",
        "outputId": "7b8c8fc9-b4fa-4fc9-f724-5cc78c56d77f"
      },
      "execution_count": 6,
      "outputs": [
        {
          "output_type": "execute_result",
          "data": {
            "text/plain": [
              "' The Fall Guy '"
            ],
            "application/vnd.google.colaboratory.intrinsic+json": {
              "type": "string"
            }
          },
          "metadata": {},
          "execution_count": 6
        }
      ]
    },
    {
      "cell_type": "markdown",
      "source": [
        "function to get a year"
      ],
      "metadata": {
        "id": "G4Z_pO9tEBK9"
      }
    },
    {
      "cell_type": "markdown",
      "source": [],
      "metadata": {
        "id": "GxsI_KdbEgFV"
      }
    },
    {
      "cell_type": "markdown",
      "source": [
        "# Function to get a movie Year"
      ],
      "metadata": {
        "id": "gyCTLTcBiUAt"
      }
    },
    {
      "cell_type": "code",
      "source": [
        "def get_year(soup):\n",
        " a=soup.find_all('div',attrs={\"data-testid\": \"titleBlock\"})[0].find('span').text\n",
        " return a.replace('(',\"\").replace(')',\"\")\n",
        "\n",
        "get_year(soup)"
      ],
      "metadata": {
        "colab": {
          "base_uri": "https://localhost:8080/",
          "height": 36
        },
        "id": "tlbSz77rD_zP",
        "outputId": "386e6547-9e96-46bd-d9e3-32ad7033eefc"
      },
      "execution_count": 7,
      "outputs": [
        {
          "output_type": "execute_result",
          "data": {
            "text/plain": [
              "' 2024 '"
            ],
            "application/vnd.google.colaboratory.intrinsic+json": {
              "type": "string"
            }
          },
          "metadata": {},
          "execution_count": 7
        }
      ]
    },
    {
      "cell_type": "markdown",
      "source": [
        "# Function to get director Name"
      ],
      "metadata": {
        "id": "m24Z19cDEg0N"
      }
    },
    {
      "cell_type": "code",
      "source": [
        "def get_directorname(soup):\n",
        "  for i in soup.find_all('div',attrs={'class':\"detail-infos\"}):\n",
        "    if i.find_all('h3',class_=\"detail-infos__subheading\")[0].text=='Director':\n",
        "      dir=i.find('span').text\n",
        "  return dir\n",
        "\n",
        "get_directorname(soup)"
      ],
      "metadata": {
        "colab": {
          "base_uri": "https://localhost:8080/",
          "height": 36
        },
        "id": "HogVpam6EnOf",
        "outputId": "85787f3d-9873-4db1-e245-dc0025fda5c8"
      },
      "execution_count": 8,
      "outputs": [
        {
          "output_type": "execute_result",
          "data": {
            "text/plain": [
              "' David Leitch '"
            ],
            "application/vnd.google.colaboratory.intrinsic+json": {
              "type": "string"
            }
          },
          "metadata": {},
          "execution_count": 8
        }
      ]
    },
    {
      "cell_type": "markdown",
      "source": [
        "# Function to find run time"
      ],
      "metadata": {
        "id": "aP4stKHiHzLV"
      }
    },
    {
      "cell_type": "code",
      "source": [
        "def get_run(soup):\n",
        "  for i in soup.find_all('div',attrs={'class':\"detail-infos\"}):\n",
        "    if i.find_all('h3',class_=\"detail-infos__subheading\")[0].text=='Runtime':\n",
        "      run=i.find('div').text\n",
        "  return run\n",
        "\n",
        "get_run(soup)"
      ],
      "metadata": {
        "colab": {
          "base_uri": "https://localhost:8080/",
          "height": 36
        },
        "id": "f1URFbM_GWD3",
        "outputId": "eb84bdaa-e04b-4e26-cae9-8de1aa0de9c6"
      },
      "execution_count": 9,
      "outputs": [
        {
          "output_type": "execute_result",
          "data": {
            "text/plain": [
              "'2h 6min'"
            ],
            "application/vnd.google.colaboratory.intrinsic+json": {
              "type": "string"
            }
          },
          "metadata": {},
          "execution_count": 9
        }
      ]
    },
    {
      "cell_type": "markdown",
      "source": [
        "# Function to get Production_country"
      ],
      "metadata": {
        "id": "OHY2HB55IH0l"
      }
    },
    {
      "cell_type": "code",
      "source": [
        "\n",
        "\n",
        "def get_productioncountry(soup):\n",
        "  for i in soup.find_all('div',attrs={'class':\"detail-infos\"}):\n",
        "    if i.find_all('h3',class_=\"detail-infos__subheading\")[0].text==' Production country ':\n",
        "      ru=i.find('div').text\n",
        "      return ru\n",
        "\n",
        "get_productioncountry(soup)\n"
      ],
      "metadata": {
        "colab": {
          "base_uri": "https://localhost:8080/",
          "height": 36
        },
        "id": "MIUc8kOQIHGM",
        "outputId": "2031c21f-e1dc-45f0-8f25-4d0311dc8c00"
      },
      "execution_count": 10,
      "outputs": [
        {
          "output_type": "execute_result",
          "data": {
            "text/plain": [
              "'Canada, United States, Australia'"
            ],
            "application/vnd.google.colaboratory.intrinsic+json": {
              "type": "string"
            }
          },
          "metadata": {},
          "execution_count": 10
        }
      ]
    },
    {
      "cell_type": "markdown",
      "source": [],
      "metadata": {
        "id": "HIloNWiaIj4N"
      }
    },
    {
      "cell_type": "markdown",
      "source": [
        "# Function To get **rating**"
      ],
      "metadata": {
        "id": "IYtWflOAJW-U"
      }
    },
    {
      "cell_type": "code",
      "source": [
        "def get_rating(soup):\n",
        " for i in soup.find_all('div',attrs={\"class\":\"jw-scoring-listing__rating\"})[1]:\n",
        "   rate=i.find('span').text\n",
        "   return rate\n",
        "\n",
        "get_rating(soup)\n",
        "\n",
        ""
      ],
      "metadata": {
        "id": "B5Bi6KiGIiJn",
        "colab": {
          "base_uri": "https://localhost:8080/",
          "height": 36
        },
        "outputId": "0dbd4965-881c-4475-90c5-8e1461061093"
      },
      "execution_count": 11,
      "outputs": [
        {
          "output_type": "execute_result",
          "data": {
            "text/plain": [
              "' 7.0  (100k) '"
            ],
            "application/vnd.google.colaboratory.intrinsic+json": {
              "type": "string"
            }
          },
          "metadata": {},
          "execution_count": 11
        }
      ]
    },
    {
      "cell_type": "markdown",
      "source": [
        "Function to get streaming ott"
      ],
      "metadata": {
        "id": "1sShiKwBkpQj"
      }
    },
    {
      "cell_type": "code",
      "source": [
        "def strem_ott(soup):\n",
        " stream=[]\n",
        " for i in soup.find_all('div',attrs={\"class\":'buybox-row__offers'}):\n",
        "   stream.append(i.find('img')['alt'])\n",
        " return stream\n",
        "\n",
        "\n",
        "strem_ott(soup)"
      ],
      "metadata": {
        "id": "0lN6MzQ0K3qV",
        "colab": {
          "base_uri": "https://localhost:8080/"
        },
        "outputId": "e290feb2-9222-4dc1-bffe-a8835cc5b1c7"
      },
      "execution_count": 12,
      "outputs": [
        {
          "output_type": "execute_result",
          "data": {
            "text/plain": [
              "['Apple TV', 'Bookmyshow', 'Zee5', 'Apple TV']"
            ]
          },
          "metadata": {},
          "execution_count": 12
        }
      ]
    },
    {
      "cell_type": "markdown",
      "source": [
        "Function to get genre"
      ],
      "metadata": {
        "id": "jCh-bADflWcj"
      }
    },
    {
      "cell_type": "code",
      "source": [
        "def genre(soup):\n",
        "  for i in soup.find_all('div',class_='detail-infos'):\n",
        "    if i.find_all('h3',class_='detail-infos__subheading')[0].text=='Genres':\n",
        "      gen=i.find('span').text\n",
        "      return gen\n",
        "\n",
        "genre(soup)"
      ],
      "metadata": {
        "colab": {
          "base_uri": "https://localhost:8080/",
          "height": 36
        },
        "id": "L3onoggXlVK-",
        "outputId": "dadb111e-8441-4a95-fb25-345b2fdbfa88"
      },
      "execution_count": 13,
      "outputs": [
        {
          "output_type": "execute_result",
          "data": {
            "text/plain": [
              "'Comedy, Drama, Action & Adventure'"
            ],
            "application/vnd.google.colaboratory.intrinsic+json": {
              "type": "string"
            }
          },
          "metadata": {},
          "execution_count": 13
        }
      ]
    },
    {
      "cell_type": "markdown",
      "source": [],
      "metadata": {
        "id": "jDAvQOowCi5-"
      }
    },
    {
      "cell_type": "markdown",
      "source": [
        "## **PRocess **to scrap 100 website"
      ],
      "metadata": {
        "id": "8yCI16xCn19h"
      }
    },
    {
      "cell_type": "code",
      "source": [
        "tar='https://www.justwatch.com/in/movies?release_year_from=2013'\n",
        "rd=rs.get(tar)\n",
        "so=BeautifulSoup(rd.content,'html.parser')"
      ],
      "metadata": {
        "id": "qCjgx7dAoC1u"
      },
      "execution_count": 14,
      "outputs": []
    },
    {
      "cell_type": "markdown",
      "source": [
        "## Get a **link** of all movies"
      ],
      "metadata": {
        "id": "3F1jYlocowXh"
      }
    },
    {
      "cell_type": "code",
      "source": [
        "links=[]\n",
        "for i in so.find_all('a',attrs={'class':'title-list-grid__item--link'}):\n",
        "  links.append(\"https://www.justwatch.com\"+i['href'])\n",
        "\n",
        "\n",
        "\n"
      ],
      "metadata": {
        "id": "RVDBWx9VojJo"
      },
      "execution_count": 15,
      "outputs": []
    },
    {
      "cell_type": "code",
      "source": [
        "Title=[]\n",
        "Director=[]\n",
        "year=[]\n",
        "Rating=[]\n",
        "streaming_at=[]\n",
        "Runtime=[]\n",
        "Production_country=[]\n",
        "Genres=[]"
      ],
      "metadata": {
        "id": "ybcHCsWXthTc"
      },
      "execution_count": 16,
      "outputs": []
    },
    {
      "cell_type": "markdown",
      "source": [
        "Now we all traverse through links and open all link specific"
      ],
      "metadata": {
        "id": "a5xctJhFqohc"
      }
    },
    {
      "cell_type": "markdown",
      "source": [
        "\n",
        "# 1.   here are lots of function which i created during RND while performing Scraping in a specifi\n",
        "2. I create a list in order to store in output which extract and it is also\n",
        "# helpful  during creating dataFrame\n"
      ],
      "metadata": {
        "id": "iMYx1a4V5KBC"
      }
    },
    {
      "cell_type": "code",
      "source": [
        "import time\n",
        "\n",
        "for link in links:\n",
        "  try:\n",
        "   response=rs.get(link)\n",
        "   s=BeautifulSoup(response.text,'html.parser')\n",
        "   tit=get_title(s)\n",
        "   Dir=get_directorname(s)\n",
        "   yr=get_year(s)\n",
        "   run=get_run(s)\n",
        "   pc=get_productioncountry(s)\n",
        "   rat=get_rating(s)\n",
        "   ot=strem_ott(s)\n",
        "   gen=genre(s)\n",
        "\n",
        "   Title.append(tit)\n",
        "   Director.append(Dir)\n",
        "   year.append(yr)\n",
        "   Runtime.append(run)\n",
        "   Production_country.append(pc)\n",
        "   Rating.append(rat)\n",
        "   streaming_at.append(ot)\n",
        "   Genres.append(gen)\n",
        "\n",
        "  except:\n",
        "    ka='Na'\n",
        "    Title.append(ka)\n",
        "    Director.append(ka)\n",
        "    year.append(ka)\n",
        "    Runtime.append(ka)\n",
        "    Production_country.append(ka)\n",
        "    Rating.append(ka)\n",
        "    streaming_at.append(ka)\n",
        "    Genres.append(ka)\n",
        "  time.sleep(5)"
      ],
      "metadata": {
        "id": "VNy6Jhypok4i"
      },
      "execution_count": 17,
      "outputs": []
    },
    {
      "cell_type": "code",
      "source": [],
      "metadata": {
        "id": "waXgaWEb45Sk"
      },
      "execution_count": null,
      "outputs": []
    },
    {
      "cell_type": "code",
      "source": [
        "data={\"Title\":Title,\"Director\":Director,\"Release_year\":year,\"Rating\":Rating,\"Availabe_platform\":streaming_at,'Genres':Genres,'Production_country':Production_country,\"Runtime\":Runtime}"
      ],
      "metadata": {
        "id": "JZvuwgLrqXvG"
      },
      "execution_count": 20,
      "outputs": []
    },
    {
      "cell_type": "markdown",
      "source": [
        "HERE we convert all data to dataframe"
      ],
      "metadata": {
        "id": "96UEfnRJ7wBu"
      }
    },
    {
      "cell_type": "code",
      "source": [
        "extr=pd.DataFrame(data)"
      ],
      "metadata": {
        "id": "0rnG7G_ZxUfZ"
      },
      "execution_count": 22,
      "outputs": []
    },
    {
      "cell_type": "code",
      "source": [
        "extr.to_csv('Extract_data')"
      ],
      "metadata": {
        "id": "dJleg1Fa6ky_"
      },
      "execution_count": 24,
      "outputs": []
    },
    {
      "cell_type": "code",
      "source": [
        "ha=pd.read_csv('/content/Extract_data')"
      ],
      "metadata": {
        "id": "nc7pchFq6yxw"
      },
      "execution_count": 26,
      "outputs": []
    },
    {
      "cell_type": "code",
      "source": [
        "ha.to_excel('extracted_data.xlsx', index=False)"
      ],
      "metadata": {
        "id": "iSrHBVUx7pkP"
      },
      "execution_count": 28,
      "outputs": []
    },
    {
      "cell_type": "code",
      "source": [],
      "metadata": {
        "colab": {
          "base_uri": "https://localhost:8080/",
          "height": 632
        },
        "id": "ti83oCUt9Ipz",
        "outputId": "4a6ad598-4c6e-4068-9d1f-0364796c3903"
      },
      "execution_count": 29,
      "outputs": [
        {
          "output_type": "execute_result",
          "data": {
            "text/plain": [
              "                   Title            Director Release_year         Rating  \\\n",
              "0              Aavesham      Jithu Madhavan         2024     8.0  (11k)    \n",
              "1                  Crew     Rajesh Krishnan         2024     5.9  (33k)    \n",
              "2       Laapataa Ladies           Kiran Rao         2024     8.5  (32k)    \n",
              "3        Manjummel Boys         Chidambaram         2024     8.3  (16k)    \n",
              "4    Godzilla Minus One    Takashi Yamazaki         2023    7.8  (117k)    \n",
              "..                   ...                 ...          ...            ...   \n",
              "95     The Kerala Story         Sudipto Sen         2023     6.9  (72k)    \n",
              "96         Tillu Square          Mallik Ram         2024      6.7  (2k)    \n",
              "97      Chennai Express        Rohit Shetty         2013     6.1  (63k)    \n",
              "98                 Rush          Ron Howard         2013    8.1  (516k)    \n",
              "99        The Iron Claw         Sean Durkin         2023     7.6  (73k)    \n",
              "\n",
              "                                    Availabe_platform  \\\n",
              "0   [Amazon Prime Video, Amazon Prime Video, Amazo...   \n",
              "1                               [Netflix, Bookmyshow]   \n",
              "2                               [Netflix, Bookmyshow]   \n",
              "3                               [Hotstar, Bookmyshow]   \n",
              "4                                           [Netflix]   \n",
              "..                                                ...   \n",
              "95                                             [Zee5]   \n",
              "96                                          [Netflix]   \n",
              "97           [Apple TV, Google Play Movies, Apple TV]   \n",
              "98                                                 []   \n",
              "99                                   [Lionsgate Play]   \n",
              "\n",
              "                                               Genres  \\\n",
              "0                          Action & Adventure, Comedy   \n",
              "1                                       Drama, Comedy   \n",
              "2                                       Comedy, Drama   \n",
              "3   History, Mystery & Thriller, Action & Adventur...   \n",
              "4   Science-Fiction, Horror, Action & Adventure, D...   \n",
              "..                                                ...   \n",
              "95                                              Drama   \n",
              "96  Comedy, Crime, Drama, Romance, Mystery & Thriller   \n",
              "97         Action & Adventure, Romance, Comedy, Drama   \n",
              "98   Drama, Sport, Action & Adventure, Made in Europe   \n",
              "99                              Drama, History, Sport   \n",
              "\n",
              "               Production_country   Runtime  \n",
              "0                           India  2h 38min  \n",
              "1                           India  1h 58min  \n",
              "2                           India   2h 2min  \n",
              "3                           India  2h 15min  \n",
              "4                           Japan   2h 5min  \n",
              "..                            ...       ...  \n",
              "95                          India  2h 18min  \n",
              "96                          India  2h 17min  \n",
              "97                          India  2h 21min  \n",
              "98  United Kingdom, United States   2h 3min  \n",
              "99  United Kingdom, United States  2h 12min  \n",
              "\n",
              "[100 rows x 8 columns]"
            ],
            "text/html": [
              "\n",
              "  <div id=\"df-1984d170-2db1-4fb5-b2ed-becc413e7d5f\" class=\"colab-df-container\">\n",
              "    <div>\n",
              "<style scoped>\n",
              "    .dataframe tbody tr th:only-of-type {\n",
              "        vertical-align: middle;\n",
              "    }\n",
              "\n",
              "    .dataframe tbody tr th {\n",
              "        vertical-align: top;\n",
              "    }\n",
              "\n",
              "    .dataframe thead th {\n",
              "        text-align: right;\n",
              "    }\n",
              "</style>\n",
              "<table border=\"1\" class=\"dataframe\">\n",
              "  <thead>\n",
              "    <tr style=\"text-align: right;\">\n",
              "      <th></th>\n",
              "      <th>Title</th>\n",
              "      <th>Director</th>\n",
              "      <th>Release_year</th>\n",
              "      <th>Rating</th>\n",
              "      <th>Availabe_platform</th>\n",
              "      <th>Genres</th>\n",
              "      <th>Production_country</th>\n",
              "      <th>Runtime</th>\n",
              "    </tr>\n",
              "  </thead>\n",
              "  <tbody>\n",
              "    <tr>\n",
              "      <th>0</th>\n",
              "      <td>Aavesham</td>\n",
              "      <td>Jithu Madhavan</td>\n",
              "      <td>2024</td>\n",
              "      <td>8.0  (11k)</td>\n",
              "      <td>[Amazon Prime Video, Amazon Prime Video, Amazo...</td>\n",
              "      <td>Action &amp; Adventure, Comedy</td>\n",
              "      <td>India</td>\n",
              "      <td>2h 38min</td>\n",
              "    </tr>\n",
              "    <tr>\n",
              "      <th>1</th>\n",
              "      <td>Crew</td>\n",
              "      <td>Rajesh Krishnan</td>\n",
              "      <td>2024</td>\n",
              "      <td>5.9  (33k)</td>\n",
              "      <td>[Netflix, Bookmyshow]</td>\n",
              "      <td>Drama, Comedy</td>\n",
              "      <td>India</td>\n",
              "      <td>1h 58min</td>\n",
              "    </tr>\n",
              "    <tr>\n",
              "      <th>2</th>\n",
              "      <td>Laapataa Ladies</td>\n",
              "      <td>Kiran Rao</td>\n",
              "      <td>2024</td>\n",
              "      <td>8.5  (32k)</td>\n",
              "      <td>[Netflix, Bookmyshow]</td>\n",
              "      <td>Comedy, Drama</td>\n",
              "      <td>India</td>\n",
              "      <td>2h 2min</td>\n",
              "    </tr>\n",
              "    <tr>\n",
              "      <th>3</th>\n",
              "      <td>Manjummel Boys</td>\n",
              "      <td>Chidambaram</td>\n",
              "      <td>2024</td>\n",
              "      <td>8.3  (16k)</td>\n",
              "      <td>[Hotstar, Bookmyshow]</td>\n",
              "      <td>History, Mystery &amp; Thriller, Action &amp; Adventur...</td>\n",
              "      <td>India</td>\n",
              "      <td>2h 15min</td>\n",
              "    </tr>\n",
              "    <tr>\n",
              "      <th>4</th>\n",
              "      <td>Godzilla Minus One</td>\n",
              "      <td>Takashi Yamazaki</td>\n",
              "      <td>2023</td>\n",
              "      <td>7.8  (117k)</td>\n",
              "      <td>[Netflix]</td>\n",
              "      <td>Science-Fiction, Horror, Action &amp; Adventure, D...</td>\n",
              "      <td>Japan</td>\n",
              "      <td>2h 5min</td>\n",
              "    </tr>\n",
              "    <tr>\n",
              "      <th>...</th>\n",
              "      <td>...</td>\n",
              "      <td>...</td>\n",
              "      <td>...</td>\n",
              "      <td>...</td>\n",
              "      <td>...</td>\n",
              "      <td>...</td>\n",
              "      <td>...</td>\n",
              "      <td>...</td>\n",
              "    </tr>\n",
              "    <tr>\n",
              "      <th>95</th>\n",
              "      <td>The Kerala Story</td>\n",
              "      <td>Sudipto Sen</td>\n",
              "      <td>2023</td>\n",
              "      <td>6.9  (72k)</td>\n",
              "      <td>[Zee5]</td>\n",
              "      <td>Drama</td>\n",
              "      <td>India</td>\n",
              "      <td>2h 18min</td>\n",
              "    </tr>\n",
              "    <tr>\n",
              "      <th>96</th>\n",
              "      <td>Tillu Square</td>\n",
              "      <td>Mallik Ram</td>\n",
              "      <td>2024</td>\n",
              "      <td>6.7  (2k)</td>\n",
              "      <td>[Netflix]</td>\n",
              "      <td>Comedy, Crime, Drama, Romance, Mystery &amp; Thriller</td>\n",
              "      <td>India</td>\n",
              "      <td>2h 17min</td>\n",
              "    </tr>\n",
              "    <tr>\n",
              "      <th>97</th>\n",
              "      <td>Chennai Express</td>\n",
              "      <td>Rohit Shetty</td>\n",
              "      <td>2013</td>\n",
              "      <td>6.1  (63k)</td>\n",
              "      <td>[Apple TV, Google Play Movies, Apple TV]</td>\n",
              "      <td>Action &amp; Adventure, Romance, Comedy, Drama</td>\n",
              "      <td>India</td>\n",
              "      <td>2h 21min</td>\n",
              "    </tr>\n",
              "    <tr>\n",
              "      <th>98</th>\n",
              "      <td>Rush</td>\n",
              "      <td>Ron Howard</td>\n",
              "      <td>2013</td>\n",
              "      <td>8.1  (516k)</td>\n",
              "      <td>[]</td>\n",
              "      <td>Drama, Sport, Action &amp; Adventure, Made in Europe</td>\n",
              "      <td>United Kingdom, United States</td>\n",
              "      <td>2h 3min</td>\n",
              "    </tr>\n",
              "    <tr>\n",
              "      <th>99</th>\n",
              "      <td>The Iron Claw</td>\n",
              "      <td>Sean Durkin</td>\n",
              "      <td>2023</td>\n",
              "      <td>7.6  (73k)</td>\n",
              "      <td>[Lionsgate Play]</td>\n",
              "      <td>Drama, History, Sport</td>\n",
              "      <td>United Kingdom, United States</td>\n",
              "      <td>2h 12min</td>\n",
              "    </tr>\n",
              "  </tbody>\n",
              "</table>\n",
              "<p>100 rows × 8 columns</p>\n",
              "</div>\n",
              "    <div class=\"colab-df-buttons\">\n",
              "\n",
              "  <div class=\"colab-df-container\">\n",
              "    <button class=\"colab-df-convert\" onclick=\"convertToInteractive('df-1984d170-2db1-4fb5-b2ed-becc413e7d5f')\"\n",
              "            title=\"Convert this dataframe to an interactive table.\"\n",
              "            style=\"display:none;\">\n",
              "\n",
              "  <svg xmlns=\"http://www.w3.org/2000/svg\" height=\"24px\" viewBox=\"0 -960 960 960\">\n",
              "    <path d=\"M120-120v-720h720v720H120Zm60-500h600v-160H180v160Zm220 220h160v-160H400v160Zm0 220h160v-160H400v160ZM180-400h160v-160H180v160Zm440 0h160v-160H620v160ZM180-180h160v-160H180v160Zm440 0h160v-160H620v160Z\"/>\n",
              "  </svg>\n",
              "    </button>\n",
              "\n",
              "  <style>\n",
              "    .colab-df-container {\n",
              "      display:flex;\n",
              "      gap: 12px;\n",
              "    }\n",
              "\n",
              "    .colab-df-convert {\n",
              "      background-color: #E8F0FE;\n",
              "      border: none;\n",
              "      border-radius: 50%;\n",
              "      cursor: pointer;\n",
              "      display: none;\n",
              "      fill: #1967D2;\n",
              "      height: 32px;\n",
              "      padding: 0 0 0 0;\n",
              "      width: 32px;\n",
              "    }\n",
              "\n",
              "    .colab-df-convert:hover {\n",
              "      background-color: #E2EBFA;\n",
              "      box-shadow: 0px 1px 2px rgba(60, 64, 67, 0.3), 0px 1px 3px 1px rgba(60, 64, 67, 0.15);\n",
              "      fill: #174EA6;\n",
              "    }\n",
              "\n",
              "    .colab-df-buttons div {\n",
              "      margin-bottom: 4px;\n",
              "    }\n",
              "\n",
              "    [theme=dark] .colab-df-convert {\n",
              "      background-color: #3B4455;\n",
              "      fill: #D2E3FC;\n",
              "    }\n",
              "\n",
              "    [theme=dark] .colab-df-convert:hover {\n",
              "      background-color: #434B5C;\n",
              "      box-shadow: 0px 1px 3px 1px rgba(0, 0, 0, 0.15);\n",
              "      filter: drop-shadow(0px 1px 2px rgba(0, 0, 0, 0.3));\n",
              "      fill: #FFFFFF;\n",
              "    }\n",
              "  </style>\n",
              "\n",
              "    <script>\n",
              "      const buttonEl =\n",
              "        document.querySelector('#df-1984d170-2db1-4fb5-b2ed-becc413e7d5f button.colab-df-convert');\n",
              "      buttonEl.style.display =\n",
              "        google.colab.kernel.accessAllowed ? 'block' : 'none';\n",
              "\n",
              "      async function convertToInteractive(key) {\n",
              "        const element = document.querySelector('#df-1984d170-2db1-4fb5-b2ed-becc413e7d5f');\n",
              "        const dataTable =\n",
              "          await google.colab.kernel.invokeFunction('convertToInteractive',\n",
              "                                                    [key], {});\n",
              "        if (!dataTable) return;\n",
              "\n",
              "        const docLinkHtml = 'Like what you see? Visit the ' +\n",
              "          '<a target=\"_blank\" href=https://colab.research.google.com/notebooks/data_table.ipynb>data table notebook</a>'\n",
              "          + ' to learn more about interactive tables.';\n",
              "        element.innerHTML = '';\n",
              "        dataTable['output_type'] = 'display_data';\n",
              "        await google.colab.output.renderOutput(dataTable, element);\n",
              "        const docLink = document.createElement('div');\n",
              "        docLink.innerHTML = docLinkHtml;\n",
              "        element.appendChild(docLink);\n",
              "      }\n",
              "    </script>\n",
              "  </div>\n",
              "\n",
              "\n",
              "<div id=\"df-59c618c3-e026-41c7-88b3-d6d4039c27b7\">\n",
              "  <button class=\"colab-df-quickchart\" onclick=\"quickchart('df-59c618c3-e026-41c7-88b3-d6d4039c27b7')\"\n",
              "            title=\"Suggest charts\"\n",
              "            style=\"display:none;\">\n",
              "\n",
              "<svg xmlns=\"http://www.w3.org/2000/svg\" height=\"24px\"viewBox=\"0 0 24 24\"\n",
              "     width=\"24px\">\n",
              "    <g>\n",
              "        <path d=\"M19 3H5c-1.1 0-2 .9-2 2v14c0 1.1.9 2 2 2h14c1.1 0 2-.9 2-2V5c0-1.1-.9-2-2-2zM9 17H7v-7h2v7zm4 0h-2V7h2v10zm4 0h-2v-4h2v4z\"/>\n",
              "    </g>\n",
              "</svg>\n",
              "  </button>\n",
              "\n",
              "<style>\n",
              "  .colab-df-quickchart {\n",
              "      --bg-color: #E8F0FE;\n",
              "      --fill-color: #1967D2;\n",
              "      --hover-bg-color: #E2EBFA;\n",
              "      --hover-fill-color: #174EA6;\n",
              "      --disabled-fill-color: #AAA;\n",
              "      --disabled-bg-color: #DDD;\n",
              "  }\n",
              "\n",
              "  [theme=dark] .colab-df-quickchart {\n",
              "      --bg-color: #3B4455;\n",
              "      --fill-color: #D2E3FC;\n",
              "      --hover-bg-color: #434B5C;\n",
              "      --hover-fill-color: #FFFFFF;\n",
              "      --disabled-bg-color: #3B4455;\n",
              "      --disabled-fill-color: #666;\n",
              "  }\n",
              "\n",
              "  .colab-df-quickchart {\n",
              "    background-color: var(--bg-color);\n",
              "    border: none;\n",
              "    border-radius: 50%;\n",
              "    cursor: pointer;\n",
              "    display: none;\n",
              "    fill: var(--fill-color);\n",
              "    height: 32px;\n",
              "    padding: 0;\n",
              "    width: 32px;\n",
              "  }\n",
              "\n",
              "  .colab-df-quickchart:hover {\n",
              "    background-color: var(--hover-bg-color);\n",
              "    box-shadow: 0 1px 2px rgba(60, 64, 67, 0.3), 0 1px 3px 1px rgba(60, 64, 67, 0.15);\n",
              "    fill: var(--button-hover-fill-color);\n",
              "  }\n",
              "\n",
              "  .colab-df-quickchart-complete:disabled,\n",
              "  .colab-df-quickchart-complete:disabled:hover {\n",
              "    background-color: var(--disabled-bg-color);\n",
              "    fill: var(--disabled-fill-color);\n",
              "    box-shadow: none;\n",
              "  }\n",
              "\n",
              "  .colab-df-spinner {\n",
              "    border: 2px solid var(--fill-color);\n",
              "    border-color: transparent;\n",
              "    border-bottom-color: var(--fill-color);\n",
              "    animation:\n",
              "      spin 1s steps(1) infinite;\n",
              "  }\n",
              "\n",
              "  @keyframes spin {\n",
              "    0% {\n",
              "      border-color: transparent;\n",
              "      border-bottom-color: var(--fill-color);\n",
              "      border-left-color: var(--fill-color);\n",
              "    }\n",
              "    20% {\n",
              "      border-color: transparent;\n",
              "      border-left-color: var(--fill-color);\n",
              "      border-top-color: var(--fill-color);\n",
              "    }\n",
              "    30% {\n",
              "      border-color: transparent;\n",
              "      border-left-color: var(--fill-color);\n",
              "      border-top-color: var(--fill-color);\n",
              "      border-right-color: var(--fill-color);\n",
              "    }\n",
              "    40% {\n",
              "      border-color: transparent;\n",
              "      border-right-color: var(--fill-color);\n",
              "      border-top-color: var(--fill-color);\n",
              "    }\n",
              "    60% {\n",
              "      border-color: transparent;\n",
              "      border-right-color: var(--fill-color);\n",
              "    }\n",
              "    80% {\n",
              "      border-color: transparent;\n",
              "      border-right-color: var(--fill-color);\n",
              "      border-bottom-color: var(--fill-color);\n",
              "    }\n",
              "    90% {\n",
              "      border-color: transparent;\n",
              "      border-bottom-color: var(--fill-color);\n",
              "    }\n",
              "  }\n",
              "</style>\n",
              "\n",
              "  <script>\n",
              "    async function quickchart(key) {\n",
              "      const quickchartButtonEl =\n",
              "        document.querySelector('#' + key + ' button');\n",
              "      quickchartButtonEl.disabled = true;  // To prevent multiple clicks.\n",
              "      quickchartButtonEl.classList.add('colab-df-spinner');\n",
              "      try {\n",
              "        const charts = await google.colab.kernel.invokeFunction(\n",
              "            'suggestCharts', [key], {});\n",
              "      } catch (error) {\n",
              "        console.error('Error during call to suggestCharts:', error);\n",
              "      }\n",
              "      quickchartButtonEl.classList.remove('colab-df-spinner');\n",
              "      quickchartButtonEl.classList.add('colab-df-quickchart-complete');\n",
              "    }\n",
              "    (() => {\n",
              "      let quickchartButtonEl =\n",
              "        document.querySelector('#df-59c618c3-e026-41c7-88b3-d6d4039c27b7 button');\n",
              "      quickchartButtonEl.style.display =\n",
              "        google.colab.kernel.accessAllowed ? 'block' : 'none';\n",
              "    })();\n",
              "  </script>\n",
              "</div>\n",
              "\n",
              "  <div id=\"id_147f420b-0381-4dd9-8a3a-cf564159a66b\">\n",
              "    <style>\n",
              "      .colab-df-generate {\n",
              "        background-color: #E8F0FE;\n",
              "        border: none;\n",
              "        border-radius: 50%;\n",
              "        cursor: pointer;\n",
              "        display: none;\n",
              "        fill: #1967D2;\n",
              "        height: 32px;\n",
              "        padding: 0 0 0 0;\n",
              "        width: 32px;\n",
              "      }\n",
              "\n",
              "      .colab-df-generate:hover {\n",
              "        background-color: #E2EBFA;\n",
              "        box-shadow: 0px 1px 2px rgba(60, 64, 67, 0.3), 0px 1px 3px 1px rgba(60, 64, 67, 0.15);\n",
              "        fill: #174EA6;\n",
              "      }\n",
              "\n",
              "      [theme=dark] .colab-df-generate {\n",
              "        background-color: #3B4455;\n",
              "        fill: #D2E3FC;\n",
              "      }\n",
              "\n",
              "      [theme=dark] .colab-df-generate:hover {\n",
              "        background-color: #434B5C;\n",
              "        box-shadow: 0px 1px 3px 1px rgba(0, 0, 0, 0.15);\n",
              "        filter: drop-shadow(0px 1px 2px rgba(0, 0, 0, 0.3));\n",
              "        fill: #FFFFFF;\n",
              "      }\n",
              "    </style>\n",
              "    <button class=\"colab-df-generate\" onclick=\"generateWithVariable('extr')\"\n",
              "            title=\"Generate code using this dataframe.\"\n",
              "            style=\"display:none;\">\n",
              "\n",
              "  <svg xmlns=\"http://www.w3.org/2000/svg\" height=\"24px\"viewBox=\"0 0 24 24\"\n",
              "       width=\"24px\">\n",
              "    <path d=\"M7,19H8.4L18.45,9,17,7.55,7,17.6ZM5,21V16.75L18.45,3.32a2,2,0,0,1,2.83,0l1.4,1.43a1.91,1.91,0,0,1,.58,1.4,1.91,1.91,0,0,1-.58,1.4L9.25,21ZM18.45,9,17,7.55Zm-12,3A5.31,5.31,0,0,0,4.9,8.1,5.31,5.31,0,0,0,1,6.5,5.31,5.31,0,0,0,4.9,4.9,5.31,5.31,0,0,0,6.5,1,5.31,5.31,0,0,0,8.1,4.9,5.31,5.31,0,0,0,12,6.5,5.46,5.46,0,0,0,6.5,12Z\"/>\n",
              "  </svg>\n",
              "    </button>\n",
              "    <script>\n",
              "      (() => {\n",
              "      const buttonEl =\n",
              "        document.querySelector('#id_147f420b-0381-4dd9-8a3a-cf564159a66b button.colab-df-generate');\n",
              "      buttonEl.style.display =\n",
              "        google.colab.kernel.accessAllowed ? 'block' : 'none';\n",
              "\n",
              "      buttonEl.onclick = () => {\n",
              "        google.colab.notebook.generateWithVariable('extr');\n",
              "      }\n",
              "      })();\n",
              "    </script>\n",
              "  </div>\n",
              "\n",
              "    </div>\n",
              "  </div>\n"
            ],
            "application/vnd.google.colaboratory.intrinsic+json": {
              "type": "dataframe",
              "variable_name": "extr",
              "summary": "{\n  \"name\": \"extr\",\n  \"rows\": 100,\n  \"fields\": [\n    {\n      \"column\": \"Title\",\n      \"properties\": {\n        \"dtype\": \"string\",\n        \"num_unique_values\": 91,\n        \"samples\": [\n          \" Article 370 \",\n          \" Salaar \",\n          \" Pushpa: The Rise \"\n        ],\n        \"semantic_type\": \"\",\n        \"description\": \"\"\n      }\n    },\n    {\n      \"column\": \"Director\",\n      \"properties\": {\n        \"dtype\": \"string\",\n        \"num_unique_values\": 84,\n        \"samples\": [\n          \" Susumu Mitsunaka \",\n          \" Jithu Madhavan \",\n          \" David Dobkin \"\n        ],\n        \"semantic_type\": \"\",\n        \"description\": \"\"\n      }\n    },\n    {\n      \"column\": \"Release_year\",\n      \"properties\": {\n        \"dtype\": \"category\",\n        \"num_unique_values\": 12,\n        \"samples\": [\n          \" 2013 \",\n          \" 2014 \",\n          \" 2024 \"\n        ],\n        \"semantic_type\": \"\",\n        \"description\": \"\"\n      }\n    },\n    {\n      \"column\": \"Rating\",\n      \"properties\": {\n        \"dtype\": \"string\",\n        \"num_unique_values\": 91,\n        \"samples\": [\n          \" 7.9  (20k) \",\n          \" 6.5  (65k) \",\n          \" 7.6  (88k) \"\n        ],\n        \"semantic_type\": \"\",\n        \"description\": \"\"\n      }\n    },\n    {\n      \"column\": \"Availabe_platform\",\n      \"properties\": {\n        \"dtype\": \"object\",\n        \"semantic_type\": \"\",\n        \"description\": \"\"\n      }\n    },\n    {\n      \"column\": \"Genres\",\n      \"properties\": {\n        \"dtype\": \"string\",\n        \"num_unique_values\": 78,\n        \"samples\": [\n          \"Horror, Comedy\",\n          \"Action & Adventure, Comedy\",\n          \"Science-Fiction, Action & Adventure\"\n        ],\n        \"semantic_type\": \"\",\n        \"description\": \"\"\n      }\n    },\n    {\n      \"column\": \"Production_country\",\n      \"properties\": {\n        \"dtype\": \"category\",\n        \"num_unique_values\": 18,\n        \"samples\": [\n          \"India\",\n          \"Japan\",\n          \"United States, India\"\n        ],\n        \"semantic_type\": \"\",\n        \"description\": \"\"\n      }\n    },\n    {\n      \"column\": \"Runtime\",\n      \"properties\": {\n        \"dtype\": \"string\",\n        \"num_unique_values\": 57,\n        \"samples\": [\n          \"2h 38min\",\n          \"1h 55min\",\n          \"2h 52min\"\n        ],\n        \"semantic_type\": \"\",\n        \"description\": \"\"\n      }\n    }\n  ]\n}"
            }
          },
          "metadata": {},
          "execution_count": 29
        }
      ]
    },
    {
      "cell_type": "code",
      "source": [],
      "metadata": {
        "id": "aN7Qt-AG90O7"
      },
      "execution_count": null,
      "outputs": []
    }
  ]
}